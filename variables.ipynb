{
    "cells": [
        {
            "cell_type": "markdown",
            "metadata": {},
            "source": [
                "# Reproducing output failures"
            ]
        },
        {
            "cell_type": "code",
            "execution_count": null,
            "metadata": {
                "label": "var"
            },
            "outputs": [],
            "source": [
                "var = 12.345\n",
                "var"
            ]
        },
        {
            "cell_type": "markdown",
            "metadata": {},
            "source": [
                "\n",
                "Referencing this variable as described in the docs with `![]()` puts it into a div of its own: ![](#var).\n",
                "\n",
                "I think that makes some sense because the `![]()` reference is to refer to an image/object. So the next try is to use regular reference `[]()`, but that just produces a reference to the code cell: [](#var)\n",
                "\n",
                "Final option is to run eval: {eval}`var`. This seems to do the `repr` of the variable by default. If I define a class that has an `_repr_html_()` to produce a `text/html` item in the MIME bundle:\n"
            ]
        },
        {
            "cell_type": "code",
            "execution_count": 3,
            "metadata": {
                "label": "test"
            },
            "outputs": [],
            "source": [
                "class Test:\n",
                "    def __init__(self):\n",
                "        self.var = 67.890\n",
                "\n",
                "    def __repr__(self):\n",
                "        return str(self.var) + \"_repr\"\n",
                "\n",
                "    def _repr_html_(self):\n",
                "        return f'<b>{self.var}</b>'\n",
                "\n",
                "t = Test()\n",
                "t"
            ]
        },
        {
            "cell_type": "markdown",
            "metadata": {},
            "source": [
                "The output right below the cell uses the `text/html` MIME-type but using `eval` prints the `text/plain` MIME-type: {eval}`t`\n",
                "\n",
                "And the object reference type `![]()` uses the HTML MIME-type, but it's still in its own div (extra text to force a new line): ![](#test).\n",
                "\n",
                "And the regular reference is a link like before: [](#test)."
            ]
        },
        {
            "cell_type": "markdown",
            "metadata": {},
            "source": [
                "Here is the execution output JSON:\n",
                "\n",
                "```json\n",
                "[\n",
                "  [\n",
                "    {\n",
                "      \"output_type\": \"execute_result\",\n",
                "      \"data\": {\n",
                "        \"text/plain\": \"12.345\"\n",
                "      },\n",
                "      \"metadata\": {},\n",
                "      \"execution_count\": 1\n",
                "    }\n",
                "  ],\n",
                "  {\n",
                "    \"status\": \"ok\",\n",
                "    \"data\": {\n",
                "      \"text/plain\": \"12.345\"\n",
                "    },\n",
                "    \"metadata\": {}\n",
                "  },\n",
                "  [\n",
                "    {\n",
                "      \"output_type\": \"execute_result\",\n",
                "      \"data\": {\n",
                "        \"text/plain\": \"67.89_repr\",\n",
                "        \"text/html\": \"<b>67.89</b>\"\n",
                "      },\n",
                "      \"metadata\": {},\n",
                "      \"execution_count\": 2\n",
                "    }\n",
                "  ],\n",
                "  {\n",
                "    \"status\": \"ok\",\n",
                "    \"data\": {\n",
                "      \"text/plain\": \"67.89_repr\",\n",
                "      \"text/html\": \"<b>67.89</b>\"\n",
                "    },\n",
                "    \"metadata\": {}\n",
                "  }\n",
                "]\n",
                "```"
            ]
        }
    ],
    "metadata": {
        "kernelspec": {
            "display_name": ".venv",
            "language": "python",
            "name": "python3"
        },
        "language_info": {
            "codemirror_mode": {
                "name": "ipython",
                "version": 3
            },
            "file_extension": ".py",
            "mimetype": "text/x-python",
            "name": "python",
            "nbconvert_exporter": "python",
            "pygments_lexer": "ipython3",
            "version": "3.13.0"
        }
    },
    "nbformat": 4,
    "nbformat_minor": 2
}
